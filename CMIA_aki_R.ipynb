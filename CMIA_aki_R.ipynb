{
 "cells": [
  {
   "cell_type": "markdown",
   "metadata": {},
   "source": [
    "### AKI的比例，多少恢复了\n",
    "### AKI的诊断率\n",
    "### AKI诊断率与"
   ]
  },
  {
   "cell_type": "code",
   "execution_count": 1,
   "metadata": {},
   "outputs": [
    {
     "name": "stderr",
     "output_type": "stream",
     "text": [
      "Warning message:\n",
      "\"package 'tidyverse' was built under R version 3.2.5\"Loading tidyverse: ggplot2\n",
      "Loading tidyverse: tibble\n",
      "Loading tidyverse: tidyr\n",
      "Loading tidyverse: readr\n",
      "Loading tidyverse: purrr\n",
      "Loading tidyverse: dplyr\n",
      "Warning message:\n",
      "\"package 'ggplot2' was built under R version 3.2.5\"Warning message:\n",
      "\"package 'tibble' was built under R version 3.2.5\"Warning message:\n",
      "\"package 'tidyr' was built under R version 3.2.5\"Warning message:\n",
      "\"package 'readr' was built under R version 3.2.5\"Warning message:\n",
      "\"package 'purrr' was built under R version 3.2.5\"Warning message:\n",
      "\"package 'dplyr' was built under R version 3.2.5\"Conflicts with tidy packages ---------------------------------------------------\n",
      "filter(): dplyr, stats\n",
      "lag():    dplyr, stats\n",
      "Warning message:\n",
      "\"package 'stringr' was built under R version 3.2.5\"Warning message:\n",
      "\"package 'tableone' was built under R version 3.2.5\"Warning message:\n",
      "\"package 'readxl' was built under R version 3.2.5\""
     ]
    }
   ],
   "source": [
    "library(tidyverse)\n",
    "library(stringr)\n",
    "library(tableone)\n",
    "library(readxl)"
   ]
  },
  {
   "cell_type": "code",
   "execution_count": 2,
   "metadata": {
    "collapsed": true
   },
   "outputs": [],
   "source": [
    "options(scipen = 50)"
   ]
  },
  {
   "cell_type": "code",
   "execution_count": 3,
   "metadata": {
    "collapsed": true
   },
   "outputs": [],
   "source": [
    "#read data from csv\n",
    "df <- read.csv('D:/p/aha/in_patient_xn.csv',fileEncoding = \"UTF-8-BOM\")"
   ]
  },
  {
   "cell_type": "code",
   "execution_count": 4,
   "metadata": {},
   "outputs": [],
   "source": [
    "#glimpse(df)"
   ]
  },
  {
   "cell_type": "code",
   "execution_count": 5,
   "metadata": {
    "collapsed": true
   },
   "outputs": [],
   "source": [
    "# replace age into number\n",
    "df$PATIENT_AGE <- as.numeric(str_replace(df$PATIENT_AGE, '\\\\D', ''))"
   ]
  },
  {
   "cell_type": "code",
   "execution_count": 6,
   "metadata": {},
   "outputs": [
    {
     "data": {
      "text/plain": [
       " IN_PATIENT_FLOW       MR_ID           IN_HOS_DATETIME         \n",
       " Length:23684       Length:23684       Min.   :20090416125900  \n",
       " Class :character   Class :character   1st Qu.:20130325091100  \n",
       " Mode  :character   Mode  :character   Median :20140924139500  \n",
       "                                       Mean   :20141885016900  \n",
       "                                       3rd Qu.:20160127101000  \n",
       "                                       Max.   :20170606153800  \n",
       "                                                               \n",
       " OUT_HOS_DATETIME         PATIENT_SEX  PATIENT_AGE    \n",
       " Min.   :20110603095500   男:13771    Min.   :  0.00  \n",
       " 1st Qu.:20130329103700   女: 9913    1st Qu.: 56.00  \n",
       " Median :20140929082100               Median : 64.00  \n",
       " Mean   :20141936403700               Mean   : 64.03  \n",
       " 3rd Qu.:20160129082000               3rd Qu.: 75.00  \n",
       " Max.   :20170606104900               Max.   :104.00  \n",
       " NA's   :231                                          "
      ]
     },
     "metadata": {},
     "output_type": "display_data"
    }
   ],
   "source": [
    "cols <- c(\"IN_PATIENT_FLOW\", \"MR_ID\")\n",
    "df[cols] <- lapply(df[cols], as.character)\n",
    "summary(df)"
   ]
  },
  {
   "cell_type": "code",
   "execution_count": 7,
   "metadata": {},
   "outputs": [
    {
     "name": "stderr",
     "output_type": "stream",
     "text": [
      "Parsed with column specification:\n",
      "cols(\n",
      "  INSPECTION_ID = col_character(),\n",
      "  OUTPATIENT_ID = col_integer(),\n",
      "  INPATIENT_ID = col_character(),\n",
      "  PATIENT_SEX = col_integer(),\n",
      "  AGE_INPUT = col_character(),\n",
      "  SAMPLE_CLASS_NAME = col_character(),\n",
      "  TEST_ORDER_NAME = col_character(),\n",
      "  SAMPLING_TIME = col_character(),\n",
      "  CHECK_TIME = col_character(),\n",
      "  INSERT_TIME = col_character(),\n",
      "  PATIENT_ID = col_character()\n",
      ")\n",
      "Warning message:\n",
      "\"207 parsing failures.\n",
      " row           col   expected     actual\n",
      "6878 OUTPATIENT_ID an integer Z207130402\n",
      "6997 OUTPATIENT_ID an integer Z207130402\n",
      "6998 OUTPATIENT_ID an integer Z207130402\n",
      "7618 OUTPATIENT_ID an integer Z207130402\n",
      "7623 OUTPATIENT_ID an integer Z207130402\n",
      ".... ............. .......... ..........\n",
      "See problems(...) for more details.\n",
      "\""
     ]
    }
   ],
   "source": [
    "lis_sample_in <- read_csv(\"D:/p/aha/lis_sample_in.csv\")"
   ]
  },
  {
   "cell_type": "code",
   "execution_count": 8,
   "metadata": {
    "collapsed": true
   },
   "outputs": [],
   "source": [
    "lis_sample_in <- select(lis_sample_in, 1:3,11)"
   ]
  },
  {
   "cell_type": "code",
   "execution_count": 9,
   "metadata": {},
   "outputs": [
    {
     "data": {
      "text/plain": [
       " INSPECTION_ID      OUTPATIENT_ID       INPATIENT_ID        PATIENT_ID       \n",
       " Length:333066      Min.   :      990   Length:333066      Length:333066     \n",
       " Class :character   1st Qu.:  2213176   Class :character   Class :character  \n",
       " Mode  :character   Median :  2271659   Mode  :character   Mode  :character  \n",
       "                    Mean   :  2780680                                        \n",
       "                    3rd Qu.:  2319296                                        \n",
       "                    Max.   :932766013                                        \n",
       "                    NA's   :215                                              "
      ]
     },
     "metadata": {},
     "output_type": "display_data"
    }
   ],
   "source": [
    "summary(lis_sample_in)"
   ]
  },
  {
   "cell_type": "code",
   "execution_count": 10,
   "metadata": {},
   "outputs": [
    {
     "name": "stderr",
     "output_type": "stream",
     "text": [
      "Warning message:\n",
      "\"Missing column names filled in: 'X1' [1]\"Parsed with column specification:\n",
      "cols(\n",
      "  X1 = col_integer(),\n",
      "  INSPECTION_ID = col_character(),\n",
      "  ENGLISH_NAME = col_character(),\n",
      "  QUANTITATIVE_RESULT = col_character()\n",
      ")\n"
     ]
    }
   ],
   "source": [
    "lis_result_in <- read_csv(\"D:/p/aha/lis_result_in.csv\")"
   ]
  },
  {
   "cell_type": "code",
   "execution_count": 11,
   "metadata": {},
   "outputs": [
    {
     "data": {
      "text/plain": [
       "       X1          INSPECTION_ID      ENGLISH_NAME       QUANTITATIVE_RESULT\n",
       " Min.   :      1   Length:4535396     Length:4535396     Length:4535396     \n",
       " 1st Qu.:1133850   Class :character   Class :character   Class :character   \n",
       " Median :2267698   Mode  :character   Mode  :character   Mode  :character   \n",
       " Mean   :2267698                                                            \n",
       " 3rd Qu.:3401547                                                            \n",
       " Max.   :4535396                                                            "
      ]
     },
     "metadata": {},
     "output_type": "display_data"
    }
   ],
   "source": [
    "summary(lis_result_in)"
   ]
  },
  {
   "cell_type": "code",
   "execution_count": 12,
   "metadata": {
    "collapsed": true
   },
   "outputs": [],
   "source": [
    "lis_scr_in <- filter(lis_result_in, ENGLISH_NAME==\"CREA*\")"
   ]
  },
  {
   "cell_type": "code",
   "execution_count": 13,
   "metadata": {},
   "outputs": [
    {
     "data": {
      "text/plain": [
       "       X1          INSPECTION_ID      ENGLISH_NAME       QUANTITATIVE_RESULT\n",
       " Min.   :     30   Length:67980       Length:67980       Length:67980       \n",
       " 1st Qu.:1056858   Class :character   Class :character   Class :character   \n",
       " Median :2111362   Mode  :character   Mode  :character   Mode  :character   \n",
       " Mean   :2184621                                                            \n",
       " 3rd Qu.:3309295                                                            \n",
       " Max.   :4535349                                                            "
      ]
     },
     "metadata": {},
     "output_type": "display_data"
    }
   ],
   "source": [
    "summary(lis_scr_in)"
   ]
  },
  {
   "cell_type": "code",
   "execution_count": 14,
   "metadata": {
    "collapsed": true
   },
   "outputs": [],
   "source": [
    "lis_scr_in <- left_join(lis_scr_in, lis_sample_in, by=\"INSPECTION_ID\")"
   ]
  },
  {
   "cell_type": "code",
   "execution_count": 15,
   "metadata": {
    "collapsed": true
   },
   "outputs": [],
   "source": [
    "cols <- c(\"QUANTITATIVE_RESULT\")\n",
    "lis_scr_in[cols] <- lapply(lis_scr_in[cols], function(x) iconv(x,\"gb2312\",\"UTF-8\"))"
   ]
  },
  {
   "cell_type": "code",
   "execution_count": 16,
   "metadata": {
    "collapsed": true
   },
   "outputs": [],
   "source": [
    "cols <- c(\"ENGLISH_NAME\")\n",
    "lis_scr_in[cols] <- lapply(lis_scr_in[cols], as.factor)"
   ]
  },
  {
   "cell_type": "code",
   "execution_count": 17,
   "metadata": {},
   "outputs": [
    {
     "name": "stderr",
     "output_type": "stream",
     "text": [
      "Warning message in eval(expr, envir, enclos):\n",
      "\"强制改变过程中产生了NA\""
     ]
    }
   ],
   "source": [
    "lis_scr_in$QUANTITATIVE_RESULT <- as.numeric(as.character(lis_scr_in$QUANTITATIVE_RESULT))"
   ]
  },
  {
   "cell_type": "code",
   "execution_count": 18,
   "metadata": {
    "collapsed": true
   },
   "outputs": [],
   "source": [
    "lis_scr_in <- left_join(lis_scr_in, df, by=c(\"INPATIENT_ID\"=\"IN_PATIENT_FLOW\"))"
   ]
  },
  {
   "cell_type": "code",
   "execution_count": 19,
   "metadata": {},
   "outputs": [],
   "source": [
    "#glimpse(lis_scr_in)"
   ]
  },
  {
   "cell_type": "code",
   "execution_count": 20,
   "metadata": {
    "collapsed": true,
    "scrolled": false
   },
   "outputs": [],
   "source": [
    "fn<-\n",
    "lis_scr_in %>%\n",
    "  group_by(INPATIENT_ID) %>%\n",
    "  summarise(\n",
    "      n=n(), \n",
    "      baseline=QUANTITATIVE_RESULT[INSPECTION_ID==min(INSPECTION_ID)], \n",
    "      peak=max(QUANTITATIVE_RESULT), \n",
    "      last=QUANTITATIVE_RESULT[INSPECTION_ID==max(INSPECTION_ID)],\n",
    "      akiday=as.numeric(as.Date(substr(min(INSPECTION_ID[QUANTITATIVE_RESULT==max(QUANTITATIVE_RESULT)]),0,8),\"%Y%m%d\")-as.Date(substr(min(INSPECTION_ID),0,8),\"%Y%m%d\"))\n",
    "  ) %>%\n",
    "  left_join(df, by=c(\"INPATIENT_ID\"=\"IN_PATIENT_FLOW\")) %>%\n",
    "  filter(!is.na(OUT_HOS_DATETIME) & !is.na(IN_HOS_DATETIME)) %>%\n",
    "  mutate(stay=as.numeric(as.Date(as.character(OUT_HOS_DATETIME),\"%Y%m%d%H%M%S\")-as.Date(as.character(IN_HOS_DATETIME),\"%Y%m%d%H%M%S\"))) %>%\n",
    "  mutate(egfr=ifelse(PATIENT_SEX==levels(df$PATIENT_SEX)[1],175*(baseline*0.01131)**(-1.234)*PATIENT_AGE**(-0.179),175*(baseline*0.01131)**(-1.234)*PATIENT_AGE**(-0.179)*0.79)) %>%\n",
    "  mutate(ckd=ifelse(egfr>=60, 0, ifelse(egfr<60&egfr>=30, 1, ifelse(egfr<30&egfr>=15, 2, 3)))) #0=no CKD, 1=CKD stage3, 2=stage4, 3=stage5"
   ]
  },
  {
   "cell_type": "code",
   "execution_count": 21,
   "metadata": {},
   "outputs": [
    {
     "data": {
      "text/html": [
       "<ol class=list-inline>\n",
       "\t<li>23135</li>\n",
       "\t<li>14</li>\n",
       "</ol>\n"
      ],
      "text/latex": [
       "\\begin{enumerate*}\n",
       "\\item 23135\n",
       "\\item 14\n",
       "\\end{enumerate*}\n"
      ],
      "text/markdown": [
       "1. 23135\n",
       "2. 14\n",
       "\n",
       "\n"
      ],
      "text/plain": [
       "[1] 23135    14"
      ]
     },
     "metadata": {},
     "output_type": "display_data"
    }
   ],
   "source": [
    "# total sample\n",
    "dim(fn)"
   ]
  },
  {
   "cell_type": "code",
   "execution_count": 22,
   "metadata": {},
   "outputs": [
    {
     "data": {
      "text/html": [
       "<ol class=list-inline>\n",
       "\t<li>6776</li>\n",
       "\t<li>14</li>\n",
       "</ol>\n"
      ],
      "text/latex": [
       "\\begin{enumerate*}\n",
       "\\item 6776\n",
       "\\item 14\n",
       "\\end{enumerate*}\n"
      ],
      "text/markdown": [
       "1. 6776\n",
       "2. 14\n",
       "\n",
       "\n"
      ],
      "text/plain": [
       "[1] 6776   14"
      ]
     },
     "metadata": {},
     "output_type": "display_data"
    }
   ],
   "source": [
    "# no peak scr\n",
    "dim(filter(fn, n==1))"
   ]
  },
  {
   "cell_type": "code",
   "execution_count": 23,
   "metadata": {},
   "outputs": [
    {
     "data": {
      "text/html": [
       "<ol class=list-inline>\n",
       "\t<li>758</li>\n",
       "\t<li>14</li>\n",
       "</ol>\n"
      ],
      "text/latex": [
       "\\begin{enumerate*}\n",
       "\\item 758\n",
       "\\item 14\n",
       "\\end{enumerate*}\n"
      ],
      "text/markdown": [
       "1. 758\n",
       "2. 14\n",
       "\n",
       "\n"
      ],
      "text/plain": [
       "[1] 758  14"
      ]
     },
     "metadata": {},
     "output_type": "display_data"
    }
   ],
   "source": [
    "# peak scr is too long\n",
    "dim(filter(fn, akiday>10))"
   ]
  },
  {
   "cell_type": "code",
   "execution_count": 24,
   "metadata": {},
   "outputs": [],
   "source": [
    "#glimpse(fn)"
   ]
  },
  {
   "cell_type": "code",
   "execution_count": 25,
   "metadata": {
    "collapsed": true,
    "scrolled": false
   },
   "outputs": [],
   "source": [
    "aki <-\n",
    "fn %>%\n",
    "  filter(n>1 & akiday<=10) %>%\n",
    "  mutate(delta = 0.01131*(peak-baseline)) %>% #mg/dl \n",
    "  mutate(delta2 = 0.01131*(last-baseline)) %>%\n",
    "  mutate( #no=0;mild=1;moderate=2;severe=3\n",
    "      aki = ifelse(delta<0.3, 0, ifelse(delta>=0.3&delta<0.5, 1, ifelse(delta>=0.5&delta<1, 2, ifelse(delta>=1, 3, NA))))\n",
    "  ) %>%\n",
    "  mutate( #yes=1;no=0\n",
    "      recover = ifelse(delta<0.3, 1, 0)\n",
    "  )"
   ]
  },
  {
   "cell_type": "code",
   "execution_count": 26,
   "metadata": {},
   "outputs": [
    {
     "name": "stderr",
     "output_type": "stream",
     "text": [
      "Warning message:\n",
      "\"Missing column names filled in: 'X1' [1]\"Parsed with column specification:\n",
      "cols(\n",
      "  X1 = col_integer(),\n",
      "  IN_PATIENT_FLOW = col_character(),\n",
      "  MR_ID = col_character(),\n",
      "  RECORDMODIFY_TIME = col_double(),\n",
      "  DIAGNOSERANGE = col_character(),\n",
      "  DIAGNOSETYPE = col_character(),\n",
      "  DIAGNOSECONTENT = col_character(),\n",
      "  CKD = col_integer(),\n",
      "  AKI = col_integer()\n",
      ")\n"
     ]
    }
   ],
   "source": [
    "diag <- read_csv(\"D:/p/aha/in_diag_aki.csv\")"
   ]
  },
  {
   "cell_type": "code",
   "execution_count": 27,
   "metadata": {},
   "outputs": [
    {
     "data": {
      "text/plain": [
       "       X1         IN_PATIENT_FLOW       MR_ID          \n",
       " Min.   :     0   Length:202385      Length:202385     \n",
       " 1st Qu.: 50596   Class :character   Class :character  \n",
       " Median :101192   Mode  :character   Mode  :character  \n",
       " Mean   :101192                                        \n",
       " 3rd Qu.:151788                                        \n",
       " Max.   :202384                                        \n",
       " RECORDMODIFY_TIME        DIAGNOSERANGE      DIAGNOSETYPE      \n",
       " Min.   :20110811122100   Length:202385      Length:202385     \n",
       " 1st Qu.:20130613084400   Class :character   Class :character  \n",
       " Median :20141125164900   Mode  :character   Mode  :character  \n",
       " Mean   :20143642144900                                        \n",
       " 3rd Qu.:20160316164800                                        \n",
       " Max.   :20170606180300                                        \n",
       " DIAGNOSECONTENT         CKD                AKI           \n",
       " Length:202385      Min.   :0.000000   Min.   :0.0000000  \n",
       " Class :character   1st Qu.:0.000000   1st Qu.:0.0000000  \n",
       " Mode  :character   Median :0.000000   Median :0.0000000  \n",
       "                    Mean   :0.007797   Mean   :0.0007461  \n",
       "                    3rd Qu.:0.000000   3rd Qu.:0.0000000  \n",
       "                    Max.   :1.000000   Max.   :1.0000000  "
      ]
     },
     "metadata": {},
     "output_type": "display_data"
    }
   ],
   "source": [
    "summary(diag)"
   ]
  },
  {
   "cell_type": "code",
   "execution_count": 28,
   "metadata": {},
   "outputs": [
    {
     "data": {
      "text/plain": [
       "\n",
       "     0      1 \n",
       "200807   1578 "
      ]
     },
     "metadata": {},
     "output_type": "display_data"
    }
   ],
   "source": [
    "table(diag$CKD)"
   ]
  },
  {
   "cell_type": "code",
   "execution_count": 29,
   "metadata": {
    "collapsed": true
   },
   "outputs": [],
   "source": [
    "aki_diag<-\n",
    "diag %>%\n",
    "  select(2,3,5,8,9) %>%\n",
    "  mutate(death=ifelse(DIAGNOSERANGE=='SW',1,0)) %>%\n",
    "  group_by(IN_PATIENT_FLOW) %>%\n",
    "  summarise(\n",
    "      n1=sum(as.numeric(AKI)),\n",
    "      n2=sum(as.numeric(CKD)),\n",
    "      d=sum(death)\n",
    "  ) %>%\n",
    "  mutate(daki=ifelse(n1==0,0,1)) %>%\n",
    "  mutate(dckd=ifelse(n2==0,0,1)) %>%\n",
    "  mutate(death=ifelse(d>0,1,0))"
   ]
  },
  {
   "cell_type": "code",
   "execution_count": 30,
   "metadata": {},
   "outputs": [
    {
     "data": {
      "text/plain": [
       "\n",
       "    0     1 \n",
       "22468   136 "
      ]
     },
     "metadata": {},
     "output_type": "display_data"
    }
   ],
   "source": [
    "table(aki_diag$daki)"
   ]
  },
  {
   "cell_type": "code",
   "execution_count": 31,
   "metadata": {},
   "outputs": [
    {
     "data": {
      "text/plain": [
       "\n",
       "    0     1 \n",
       "21052  1552 "
      ]
     },
     "metadata": {},
     "output_type": "display_data"
    }
   ],
   "source": [
    "table(aki_diag$dckd)"
   ]
  },
  {
   "cell_type": "code",
   "execution_count": 32,
   "metadata": {},
   "outputs": [],
   "source": [
    "#glimpse(aki_diag)"
   ]
  },
  {
   "cell_type": "code",
   "execution_count": 33,
   "metadata": {
    "collapsed": true
   },
   "outputs": [],
   "source": [
    "aki <- inner_join(aki, select(aki_diag,1,5,6,7), by=c(\"INPATIENT_ID\"=\"IN_PATIENT_FLOW\"))"
   ]
  },
  {
   "cell_type": "code",
   "execution_count": 34,
   "metadata": {
    "collapsed": true
   },
   "outputs": [],
   "source": [
    "cols <- c(\"aki\",\"recover\", \"ckd\",\"daki\",\"dckd\",\"death\")\n",
    "aki[cols] <- lapply(aki[cols], as.factor)"
   ]
  },
  {
   "cell_type": "code",
   "execution_count": 35,
   "metadata": {},
   "outputs": [],
   "source": [
    "#glimpse(aki)"
   ]
  },
  {
   "cell_type": "code",
   "execution_count": 36,
   "metadata": {},
   "outputs": [
    {
     "data": {
      "text/plain": [
       " INPATIENT_ID             n             baseline            peak       \n",
       " Length:14995       Min.   : 2.000   Min.   :  25.90   Min.   :  31.9  \n",
       " Class :character   1st Qu.: 2.000   1st Qu.:  70.20   1st Qu.:  82.0  \n",
       " Mode  :character   Median : 3.000   Median :  83.84   Median :  94.0  \n",
       "                    Mean   : 3.481   Mean   : 104.87   Mean   : 118.5  \n",
       "                    3rd Qu.: 4.000   3rd Qu.: 101.00   3rd Qu.: 110.0  \n",
       "                    Max.   :53.000   Max.   :1627.00   Max.   :2424.0  \n",
       "      last            akiday          MR_ID           IN_HOS_DATETIME         \n",
       " Min.   :  26.3   Min.   : 0.000   Length:14995       Min.   :20110726142900  \n",
       " 1st Qu.:  76.0   1st Qu.: 0.000   Class :character   1st Qu.:20130321100400  \n",
       " Median :  88.0   Median : 1.000   Mode  :character   Median :20140814171000  \n",
       " Mean   : 106.7   Mean   : 2.358                      Mean   :20141827435300  \n",
       " 3rd Qu.: 103.0   3rd Qu.: 4.000                      3rd Qu.:20160114084200  \n",
       " Max.   :2424.0   Max.   :10.000                      Max.   :20170603115400  \n",
       " OUT_HOS_DATETIME         PATIENT_SEX  PATIENT_AGE          stay        \n",
       " Min.   :20110815114400   男:8989     Min.   :  6.00   Min.   :  0.000  \n",
       " 1st Qu.:20130329043900   女:6006     1st Qu.: 57.00   1st Qu.:  5.000  \n",
       " Median :20140822093900               Median : 65.00   Median :  7.000  \n",
       " Mean   :20142006160300               Mean   : 65.24   Mean   :  8.137  \n",
       " 3rd Qu.:20160121084000               3rd Qu.: 76.00   3rd Qu.: 10.000  \n",
       " Max.   :20170606095900               Max.   :101.00   Max.   :377.000  \n",
       "      egfr         ckd           delta              delta2         aki      \n",
       " Min.   :  2.396   0:12092   Min.   : 0.00000   Min.   :-8.73358   0:13140  \n",
       " 1st Qu.: 65.460   1: 2100   1st Qu.: 0.00000   1st Qu.:-0.06786   1: 1321  \n",
       " Median : 81.904   2:  395   Median : 0.09048   Median : 0.04501   2:  329  \n",
       " Mean   : 83.168   3:  408   Mean   : 0.15410   Mean   : 0.02086   3:  205  \n",
       " 3rd Qu.:100.880             3rd Qu.: 0.21602   3rd Qu.: 0.16739            \n",
       " Max.   :385.251             Max.   :11.10529   Max.   :11.10529            \n",
       " recover   daki      dckd      death    \n",
       " 0: 1855   0:14897   0:13746   0:14887  \n",
       " 1:13140   1:   98   1: 1249   1:  108  \n",
       "                                        \n",
       "                                        \n",
       "                                        \n",
       "                                        "
      ]
     },
     "metadata": {},
     "output_type": "display_data"
    }
   ],
   "source": [
    "summary(aki)"
   ]
  },
  {
   "cell_type": "code",
   "execution_count": 37,
   "metadata": {},
   "outputs": [
    {
     "data": {
      "text/html": [
       "<table>\n",
       "<thead><tr><th scope=col>aki</th><th scope=col>n</th><th scope=col>f</th></tr></thead>\n",
       "<tbody>\n",
       "\t<tr><td>0        </td><td>13140    </td><td>87.629210</td></tr>\n",
       "\t<tr><td>1        </td><td> 1321    </td><td> 8.809603</td></tr>\n",
       "\t<tr><td>2        </td><td>  329    </td><td> 2.194065</td></tr>\n",
       "\t<tr><td>3        </td><td>  205    </td><td> 1.367122</td></tr>\n",
       "</tbody>\n",
       "</table>\n"
      ],
      "text/latex": [
       "\\begin{tabular}{r|lll}\n",
       " aki & n & f\\\\\n",
       "\\hline\n",
       "\t 0         & 13140     & 87.629210\\\\\n",
       "\t 1         &  1321     &  8.809603\\\\\n",
       "\t 2         &   329     &  2.194065\\\\\n",
       "\t 3         &   205     &  1.367122\\\\\n",
       "\\end{tabular}\n"
      ],
      "text/markdown": [
       "\n",
       "aki | n | f | \n",
       "|---|---|---|---|\n",
       "| 0         | 13140     | 87.629210 | \n",
       "| 1         |  1321     |  8.809603 | \n",
       "| 2         |   329     |  2.194065 | \n",
       "| 3         |   205     |  1.367122 | \n",
       "\n",
       "\n"
      ],
      "text/plain": [
       "  aki n     f        \n",
       "1 0   13140 87.629210\n",
       "2 1    1321  8.809603\n",
       "3 2     329  2.194065\n",
       "4 3     205  1.367122"
      ]
     },
     "metadata": {},
     "output_type": "display_data"
    }
   ],
   "source": [
    "aki %>%\n",
    "  group_by(aki) %>%\n",
    "  summarise(\n",
    "      n=n(),\n",
    "      f=n()/length(aki$aki)*100\n",
    "  )"
   ]
  },
  {
   "cell_type": "code",
   "execution_count": 38,
   "metadata": {},
   "outputs": [
    {
     "data": {
      "text/html": [
       "<table>\n",
       "<thead><tr><th scope=col>daki</th><th scope=col>n</th><th scope=col>d</th><th scope=col>r</th></tr></thead>\n",
       "<tbody>\n",
       "\t<tr><td>0        </td><td>1796     </td><td>47       </td><td> 2.616927</td></tr>\n",
       "\t<tr><td>1        </td><td>  59     </td><td>18       </td><td>30.508475</td></tr>\n",
       "</tbody>\n",
       "</table>\n"
      ],
      "text/latex": [
       "\\begin{tabular}{r|llll}\n",
       " daki & n & d & r\\\\\n",
       "\\hline\n",
       "\t 0         & 1796      & 47        &  2.616927\\\\\n",
       "\t 1         &   59      & 18        & 30.508475\\\\\n",
       "\\end{tabular}\n"
      ],
      "text/markdown": [
       "\n",
       "daki | n | d | r | \n",
       "|---|---|\n",
       "| 0         | 1796      | 47        |  2.616927 | \n",
       "| 1         |   59      | 18        | 30.508475 | \n",
       "\n",
       "\n"
      ],
      "text/plain": [
       "  daki n    d  r        \n",
       "1 0    1796 47  2.616927\n",
       "2 1      59 18 30.508475"
      ]
     },
     "metadata": {},
     "output_type": "display_data"
    }
   ],
   "source": [
    "aki %>%\n",
    "  filter(as.numeric(as.character(aki))>0 & !is.na(daki)) %>%\n",
    "  group_by(daki) %>%\n",
    "  summarise(\n",
    "      n=n(),\n",
    "      d=sum(as.numeric(as.character(death))>0),\n",
    "      r=d/n*100\n",
    "  )"
   ]
  },
  {
   "cell_type": "code",
   "execution_count": 39,
   "metadata": {},
   "outputs": [
    {
     "data": {
      "text/plain": [
       "\n",
       "    0     1 \n",
       "14887   108 "
      ]
     },
     "metadata": {},
     "output_type": "display_data"
    }
   ],
   "source": [
    "table(aki$death)"
   ]
  },
  {
   "cell_type": "code",
   "execution_count": 40,
   "metadata": {},
   "outputs": [
    {
     "name": "stdout",
     "output_type": "stream",
     "text": [
      "                           \"Stratified by aki\"\n",
      " \"\"                         \"0\"               \"1\"              \n",
      "  \"n\"                       \" 13140\"          \"  1321\"         \n",
      "  \"baseline (mean (sd))\"    \" 98.31 (82.03)\"  \" 92.93 (104.05)\"\n",
      "  \"peak (mean (sd))\"        \"106.39 (80.93)\"  \"125.02 (104.76)\"\n",
      "  \"akiday (mean (sd))\"      \"  2.10 (2.45)\"   \"  3.88 (2.57)\"  \n",
      "  \"PATIENT_AGE (mean (sd))\" \" 65.16 (12.96)\"  \" 64.24 (14.18)\" \n",
      "  \"recover = 1 (%)\"         \" 13140 (100.0) \" \"     0 ( 0.0) \" \n",
      "  \"PATIENT_SEX = 女 (%)\"    \"  5203 ( 39.6) \" \"   573 (43.4) \" \n",
      "  \"ckd (%)\"                 \" \"               \"  \"             \n",
      "  \"   0\"                    \" 10822 ( 82.4) \" \"  1112 (84.2) \" \n",
      "  \"   1\"                    \"  1824 ( 13.9) \" \"   133 (10.1) \" \n",
      "  \"   2\"                    \"   276 (  2.1) \" \"    42 ( 3.2) \" \n",
      "  \"   3\"                    \"   218 (  1.7) \" \"    34 ( 2.6) \" \n",
      "  \"dckd = 1 (%)\"            \"   887 (  6.8) \" \"   117 ( 8.9) \" \n",
      "  \"daki = 1 (%)\"            \"    39 (  0.3) \" \"    10 ( 0.8) \" \n",
      "  \"death = 1 (%)\"           \"    43 (  0.3) \" \"    11 ( 0.8) \" \n",
      "                           \"Stratified by aki\"\n",
      " \"\"                         \"2\"               \"3\"               \"p\"      \"test\"\n",
      "  \"n\"                       \"   329\"          \"   205\"          \"\"       \"\"    \n",
      "  \"baseline (mean (sd))\"    \"210.24 (228.56)\" \"433.00 (340.33)\" \"<0.001\" \"\"    \n",
      "  \"peak (mean (sd))\"        \"269.75 (231.67)\" \"609.67 (383.95)\" \"<0.001\" \"\"    \n",
      "  \"akiday (mean (sd))\"      \"  5.23 (2.73)\"   \"  4.58 (2.69)\"   \"<0.001\" \"\"    \n",
      "  \"PATIENT_AGE (mean (sd))\" \" 71.04 (13.22)\"  \" 67.84 (13.27)\"  \"<0.001\" \"\"    \n",
      "  \"recover = 1 (%)\"         \"     0 ( 0.0) \"  \"     0 ( 0.0) \"  \"<0.001\" \"\"    \n",
      "  \"PATIENT_SEX = 女 (%)\"    \"   153 (46.5) \"  \"    77 (37.6) \"  \" 0.004\" \"\"    \n",
      "  \"ckd (%)\"                 \"   \"             \"   \"             \"<0.001\" \"\"    \n",
      "  \"   0\"                    \"   131 (39.8) \"  \"    27 (13.2) \"  \"\"       \"\"    \n",
      "  \"   1\"                    \"   103 (31.3) \"  \"    40 (19.5) \"  \"\"       \"\"    \n",
      "  \"   2\"                    \"    45 (13.7) \"  \"    32 (15.6) \"  \"\"       \"\"    \n",
      "  \"   3\"                    \"    50 (15.2) \"  \"   106 (51.7) \"  \"\"       \"\"    \n",
      "  \"dckd = 1 (%)\"            \"   116 (35.3) \"  \"   129 (62.9) \"  \"<0.001\" \"\"    \n",
      "  \"daki = 1 (%)\"            \"    22 ( 6.7) \"  \"    27 (13.2) \"  \"<0.001\" \"\"    \n",
      "  \"death = 1 (%)\"           \"    23 ( 7.0) \"  \"    31 (15.1) \"  \"<0.001\" \"\"    \n"
     ]
    }
   ],
   "source": [
    "#print table1\n",
    "listVars <- c(\"baseline\",\"peak\",\"akiday\",\"PATIENT_AGE\",\"recover\",\"PATIENT_SEX\",\"ckd\",\"dckd\",\"daki\",\"death\")\n",
    "#Define categorical variables\n",
    "catVars <- c(\"ckd\",\"dckd\",\"recover\",\"PATIENT_SEX\",\"daki\",\"death\")\n",
    "table2 <- CreateTableOne(vars=listVars, data=aki,factorVars=catVars, strata = c(\"aki\"))\n",
    "print(table2, quote = TRUE)"
   ]
  },
  {
   "cell_type": "code",
   "execution_count": 41,
   "metadata": {},
   "outputs": [
    {
     "data": {},
     "metadata": {},
     "output_type": "display_data"
    },
    {
     "data": {
      "image/png": "[encoded data removed]",
      "text/plain": [
       "plot without title"
      ]
     },
     "metadata": {},
     "output_type": "display_data"
    }
   ],
   "source": [
    "tmp<-\n",
    "aki %>%\n",
    "  filter(as.character(aki)>0) %>%\n",
    "  group_by(ckd,aki) %>%\n",
    "  summarise(\n",
    "      aki_prevalence = n()\n",
    "  )\n",
    "\n",
    "ggplot(data=tmp, mapping=aes(x=ckd,y=aki_prevalence,fill=aki))+\n",
    "geom_bar(stat=\"identity\",position=\"fill\")+\n",
    "scale_y_continuous(labels = scales::percent)"
   ]
  },
  {
   "cell_type": "code",
   "execution_count": 42,
   "metadata": {},
   "outputs": [
    {
     "data": {},
     "metadata": {},
     "output_type": "display_data"
    },
    {
     "data": {
      "image/png": "[encoded data removed]",
      "text/plain": [
       "plot without title"
      ]
     },
     "metadata": {},
     "output_type": "display_data"
    }
   ],
   "source": [
    "tmp<-\n",
    "aki %>%\n",
    "  filter(as.character(aki)>0) %>%\n",
    "  group_by(aki,year=format(as.Date(as.character(format(IN_HOS_DATETIME,scientific=FALSE)),\"%Y%m%d%H%M%S\"), \"%Y\")) %>%\n",
    "  summarise(\n",
    "      aki_prevalence = n()\n",
    "  )\n",
    "\n",
    "ggplot(data=tmp, mapping=aes(x=year,y=aki_prevalence,fill=aki))+\n",
    "geom_bar(stat=\"identity\",position=\"fill\")+\n",
    "scale_y_continuous(labels = scales::percent)"
   ]
  },
  {
   "cell_type": "code",
   "execution_count": 43,
   "metadata": {},
   "outputs": [
    {
     "data": {},
     "metadata": {},
     "output_type": "display_data"
    },
    {
     "data": {
      "image/png": "[encoded data removed]",
      "text/plain": [
       "plot without title"
      ]
     },
     "metadata": {},
     "output_type": "display_data"
    }
   ],
   "source": [
    "tmp<-\n",
    "aki %>%\n",
    "  group_by(aki,year=format(as.Date(as.character(format(IN_HOS_DATETIME,scientific=FALSE)),\"%Y%m%d%H%M%S\"), \"%Y\")) %>%\n",
    "  summarise(\n",
    "      aki_prevalence = n()\n",
    "  )\n",
    "\n",
    "ggplot(data=tmp, mapping=aes(x=year,y=aki_prevalence,fill=aki))+\n",
    "geom_bar(stat=\"identity\",position=\"fill\")+\n",
    "scale_y_continuous(labels = scales::percent)"
   ]
  },
  {
   "cell_type": "code",
   "execution_count": 44,
   "metadata": {},
   "outputs": [
    {
     "data": {},
     "metadata": {},
     "output_type": "display_data"
    },
    {
     "data": {
      "image/png": "[encoded data removed]",
      "text/plain": [
       "plot without title"
      ]
     },
     "metadata": {},
     "output_type": "display_data"
    }
   ],
   "source": [
    "tmp<-\n",
    "aki %>%\n",
    "  filter(!is.na(death)) %>%\n",
    "  group_by(aki,ckd) %>%\n",
    "  summarise(\n",
    "      death = sum(as.numeric(as.character(death)))/n()\n",
    "  )\n",
    "\n",
    "ggplot(data=tmp, mapping=aes(x=aki,y=death,fill=ckd))+\n",
    "geom_bar(stat=\"identity\",position=\"dodge\")+\n",
    "scale_y_continuous(labels = scales::percent)"
   ]
  },
  {
   "cell_type": "code",
   "execution_count": 45,
   "metadata": {},
   "outputs": [
    {
     "data": {},
     "metadata": {},
     "output_type": "display_data"
    },
    {
     "data": {
      "image/png": "[encoded data removed]",
      "text/plain": [
       "plot without title"
      ]
     },
     "metadata": {},
     "output_type": "display_data"
    }
   ],
   "source": [
    "tmp<-\n",
    "aki %>%\n",
    "  filter(as.character(aki)>0) %>%\n",
    "  group_by(aki,daki) %>%\n",
    "  summarise(\n",
    "      n=n()\n",
    "  )\n",
    "\n",
    "ggplot(data=tmp, mapping=aes(x=daki,y=n,fill=aki))+\n",
    "geom_bar(stat=\"identity\",position=\"fill\")"
   ]
  },
  {
   "cell_type": "code",
   "execution_count": 46,
   "metadata": {},
   "outputs": [
    {
     "data": {
      "text/plain": [
       "\n",
       "         0          1          2          3 \n",
       "0.80640213 0.14004668 0.02634211 0.02720907 "
      ]
     },
     "metadata": {},
     "output_type": "display_data"
    }
   ],
   "source": [
    "prop.table(table(aki$ckd))"
   ]
  },
  {
   "cell_type": "code",
   "execution_count": 47,
   "metadata": {},
   "outputs": [
    {
     "data": {},
     "metadata": {},
     "output_type": "display_data"
    },
    {
     "data": {
      "image/png": "[encoded data removed]",
      "text/plain": [
       "plot without title"
      ]
     },
     "metadata": {},
     "output_type": "display_data"
    }
   ],
   "source": [
    "tmp<-\n",
    "aki %>%\n",
    "  #filter(as.character(aki)>0) %>%\n",
    "  group_by(dckd,aki) %>%\n",
    "  summarise(\n",
    "      death = sum(as.numeric(as.character(death)))/n()\n",
    "  )\n",
    "\n",
    "ggplot(data=tmp, mapping=aes(x=dckd,y=death,fill=aki))+\n",
    "geom_bar(stat=\"identity\",position=\"dodge\")+\n",
    "scale_y_continuous(labels = scales::percent)"
   ]
  },
  {
   "cell_type": "code",
   "execution_count": 48,
   "metadata": {},
   "outputs": [
    {
     "data": {},
     "metadata": {},
     "output_type": "display_data"
    },
    {
     "data": {
      "image/png": "[encoded data removed]",
      "text/plain": [
       "plot without title"
      ]
     },
     "metadata": {},
     "output_type": "display_data"
    }
   ],
   "source": [
    "tmp<-\n",
    "aki %>%\n",
    "  filter(as.character(aki)>0 & !is.na(death)) %>%\n",
    "  group_by(aki,daki) %>%\n",
    "  summarise(\n",
    "      death = sum(as.numeric(as.character(death)))/n()\n",
    "  )\n",
    "\n",
    "ggplot(data=tmp, mapping=aes(x=aki,y=death,fill=daki))+\n",
    "geom_bar(stat=\"identity\",position=\"dodge\")+\n",
    "scale_y_continuous(labels = scales::percent)"
   ]
  },
  {
   "cell_type": "code",
   "execution_count": 49,
   "metadata": {},
   "outputs": [
    {
     "name": "stderr",
     "output_type": "stream",
     "text": [
      "Parsed with column specification:\n",
      "cols(\n",
      "  `<U+FEFF>\"MR_ID\"` = col_character(),\n",
      "  PATIENT_NAME = col_character(),\n",
      "  PATIENT_SEX = col_character(),\n",
      "  PATIENT_BIRTHDAY = col_integer(),\n",
      "  MC_CODE = col_character(),\n",
      "  EMPI_NUM = col_character()\n",
      ")\n"
     ]
    }
   ],
   "source": [
    "empi <- read_csv(\"D:/p/ehr/in_empi.csv\")"
   ]
  },
  {
   "cell_type": "code",
   "execution_count": 50,
   "metadata": {
    "collapsed": true
   },
   "outputs": [],
   "source": [
    "names(empi) <- c('MR_ID','PATIENT_NAME','PATIENT_SEX','PATIENT_BIRTHDAY','MC_CODE','EMPI_NUM')"
   ]
  },
  {
   "cell_type": "code",
   "execution_count": 51,
   "metadata": {},
   "outputs": [],
   "source": [
    "#glimpse(empi)"
   ]
  },
  {
   "cell_type": "code",
   "execution_count": 52,
   "metadata": {
    "collapsed": true,
    "scrolled": false
   },
   "outputs": [],
   "source": [
    "empi_new<-\n",
    "aki %>%\n",
    "  left_join(select(empi,1,5,6), by=\"MR_ID\") %>%\n",
    "  group_by(MR_ID,EMPI_NUM) %>%\n",
    "  summarise(\n",
    "      a = mean(as.numeric(as.character(aki))),\n",
    "      b = sum(as.numeric(as.character(daki))),\n",
    "      c = sum(as.numeric(as.character(dckd)))\n",
    "  ) %>%\n",
    "  mutate(aki=ifelse(a==0,0,ifelse(a>0&a<2,1,ifelse(a>=2&a<3,2,3)))) %>%\n",
    "  mutate(daki=ifelse(b==0, 0, 1)) %>%\n",
    "  mutate(dckd=ifelse(c==0, 0, 1)) %>%\n",
    "  select(1,2,6,7,8)"
   ]
  },
  {
   "cell_type": "code",
   "execution_count": 53,
   "metadata": {},
   "outputs": [],
   "source": [
    "#glimpse(empi_new)"
   ]
  },
  {
   "cell_type": "code",
   "execution_count": 54,
   "metadata": {},
   "outputs": [
    {
     "name": "stderr",
     "output_type": "stream",
     "text": [
      "Parsed with column specification:\n",
      "cols(\n",
      "  INSPECTION_ID = col_character(),\n",
      "  OUTPATIENT_ID = col_character(),\n",
      "  INPATIENT_ID = col_character(),\n",
      "  PATIENT_SEX = col_integer(),\n",
      "  AGE_INPUT = col_character(),\n",
      "  PATIENT_DEPT = col_character(),\n",
      "  SAMPLE_CLASS_NAME = col_character(),\n",
      "  TEST_ORDER_NAME = col_character(),\n",
      "  SAMPLING_TIME = col_character(),\n",
      "  CHECK_TIME = col_character(),\n",
      "  INSERT_TIME = col_character(),\n",
      "  PATIENT_ID = col_character()\n",
      ")\n"
     ]
    }
   ],
   "source": [
    "#all the lis\n",
    "lis_sample_all <- read_csv(\"D:/p/aha/lis_sample_empi.csv\")"
   ]
  },
  {
   "cell_type": "code",
   "execution_count": 55,
   "metadata": {
    "collapsed": true
   },
   "outputs": [],
   "source": [
    "lis_sample_all <- select(lis_sample_all, 1,4,5,12)"
   ]
  },
  {
   "cell_type": "code",
   "execution_count": 56,
   "metadata": {},
   "outputs": [
    {
     "name": "stderr",
     "output_type": "stream",
     "text": [
      "Warning message:\n",
      "\"Missing column names filled in: 'X1' [1]\"Parsed with column specification:\n",
      "cols(\n",
      "  X1 = col_integer(),\n",
      "  INSPECTION_ID = col_character(),\n",
      "  ENGLISH_NAME = col_character(),\n",
      "  QUANTITATIVE_RESULT = col_character(),\n",
      "  QUALITATIVE_RESULT = col_character()\n",
      ")\n"
     ]
    }
   ],
   "source": [
    "lis_result_all <- read_csv(\"D:/p/aha/lis_result_empi.csv\")"
   ]
  },
  {
   "cell_type": "code",
   "execution_count": 57,
   "metadata": {
    "collapsed": true
   },
   "outputs": [],
   "source": [
    "lis_scr_all <- filter(lis_result_all, ENGLISH_NAME==\"CREA*\")"
   ]
  },
  {
   "cell_type": "code",
   "execution_count": 58,
   "metadata": {
    "collapsed": true
   },
   "outputs": [],
   "source": [
    "lis_scr_all <- left_join(select(lis_scr_all,2,4), lis_sample_all, by=\"INSPECTION_ID\")"
   ]
  },
  {
   "cell_type": "code",
   "execution_count": 59,
   "metadata": {},
   "outputs": [
    {
     "name": "stderr",
     "output_type": "stream",
     "text": [
      "Warning message in eval(expr, envir, enclos):\n",
      "\"强制改变过程中产生了NA\""
     ]
    }
   ],
   "source": [
    "lis_scr_all$QUANTITATIVE_RESULT <- as.numeric(as.character(lis_scr_all$QUANTITATIVE_RESULT))"
   ]
  },
  {
   "cell_type": "code",
   "execution_count": 60,
   "metadata": {},
   "outputs": [
    {
     "name": "stderr",
     "output_type": "stream",
     "text": [
      "Warning message in eval(expr, envir, enclos):\n",
      "\"强制改变过程中产生了NA\""
     ]
    }
   ],
   "source": [
    "cols <- c(\"AGE_INPUT\")\n",
    "lis_scr_all[cols] <- lapply(lis_scr_all[cols], function(x) iconv(x,\"gb2312\",\"UTF-8\"))\n",
    "# replace age into number\n",
    "lis_scr_all$AGE_INPUT <- as.numeric(str_replace(lis_scr_all$AGE_INPUT, '\\\\D', ''))"
   ]
  },
  {
   "cell_type": "code",
   "execution_count": 61,
   "metadata": {},
   "outputs": [],
   "source": [
    "#glimpse(lis_scr_all)"
   ]
  },
  {
   "cell_type": "code",
   "execution_count": 62,
   "metadata": {
    "collapsed": true,
    "scrolled": false
   },
   "outputs": [],
   "source": [
    "ckd_prog<-\n",
    "lis_scr_all %>%\n",
    "  filter(!is.na(PATIENT_ID)) %>%\n",
    "  group_by(PATIENT_ID) %>%\n",
    "  summarise(\n",
    "      n=n(),\n",
    "      baseline=QUANTITATIVE_RESULT[INSPECTION_ID==min(INSPECTION_ID)], \n",
    "      peak=max(QUANTITATIVE_RESULT),\n",
    "      last=QUANTITATIVE_RESULT[INSPECTION_ID==max(INSPECTION_ID)],\n",
    "      followup=as.numeric(as.Date(substr(max(INSPECTION_ID),0,8),\"%Y%m%d\")-as.Date(substr(min(INSPECTION_ID),0,8),\"%Y%m%d\")),\n",
    "      PATIENT_SEX=mean(PATIENT_SEX),\n",
    "      AGE_INPUT=mean(AGE_INPUT)\n",
    "  )%>%\n",
    "  filter(n>1 & followup>90)%>%\n",
    "  mutate(egfr_last=ifelse(PATIENT_SEX==1,175*(last*0.01131)**(-1.234)*AGE_INPUT**(-0.179),175*(last*0.01131)**(-1.234)*AGE_INPUT**(-0.179)*0.79)) %>%\n",
    "  mutate(ckd_last=ifelse(egfr_last>=60, 0, ifelse(egfr_last<60&egfr_last>=30, 1, ifelse(egfr_last<30&egfr_last>=15, 2, 3)))) %>%#0=no CKD, 1=CKD stage3, 2=stage4, 3=stage5 \n",
    "  mutate(egfr_base=ifelse(PATIENT_SEX==1,175*(baseline*0.01131)**(-1.234)*AGE_INPUT**(-0.179),175*(baseline*0.01131)**(-1.234)*AGE_INPUT**(-0.179)*0.79)) %>%\n",
    "  mutate(ckd_base=ifelse(egfr_base>=60, 0, ifelse(egfr_base<60&egfr_base>=30, 1, ifelse(egfr_base<30&egfr_base>=15, 2, 3)))) %>%#0=no CKD, 1=CKD stage3, 2=stage4, 3=stage5\n",
    "  select(1,10,12) %>%\n",
    "  mutate(ckd_prog=ifelse(ckd_last-ckd_base>0,1,0))"
   ]
  },
  {
   "cell_type": "code",
   "execution_count": 63,
   "metadata": {},
   "outputs": [
    {
     "data": {
      "text/html": [
       "<ol class=list-inline>\n",
       "\t<li>6828</li>\n",
       "\t<li>4</li>\n",
       "</ol>\n"
      ],
      "text/latex": [
       "\\begin{enumerate*}\n",
       "\\item 6828\n",
       "\\item 4\n",
       "\\end{enumerate*}\n"
      ],
      "text/markdown": [
       "1. 6828\n",
       "2. 4\n",
       "\n",
       "\n"
      ],
      "text/plain": [
       "[1] 6828    4"
      ]
     },
     "metadata": {},
     "output_type": "display_data"
    }
   ],
   "source": [
    "dim(ckd_prog)"
   ]
  },
  {
   "cell_type": "code",
   "execution_count": 64,
   "metadata": {
    "collapsed": true
   },
   "outputs": [],
   "source": [
    "ckd_prog <- inner_join(ckd_prog, empi_new, by=c(\"PATIENT_ID\"=\"EMPI_NUM\"))"
   ]
  },
  {
   "cell_type": "code",
   "execution_count": 65,
   "metadata": {
    "collapsed": true
   },
   "outputs": [],
   "source": [
    "cols <- c(\"ckd_last\",\"ckd_base\", \"ckd_prog\",\"aki\",\"daki\",\"dckd\")\n",
    "ckd_prog[cols] <- lapply(ckd_prog[cols], as.factor)"
   ]
  },
  {
   "cell_type": "code",
   "execution_count": 66,
   "metadata": {
    "scrolled": true
   },
   "outputs": [
    {
     "name": "stdout",
     "output_type": "stream",
     "text": [
      "Observations: 5,220\n",
      "Variables: 8\n",
      "$ PATIENT_ID <chr> \"0001141E0060C5FFF8669300155F78C2\", \"000B276045F0EC49E43...\n",
      "$ ckd_last   <fctr> 1, 1, 0, 1, 0, 3, 0, 0, 1, 0, 3, 2, 0, 0, 0, 0, 0, 0, 0...\n",
      "$ ckd_base   <fctr> 1, 0, 0, 1, 0, 2, 1, 0, 1, 1, 3, 2, 0, 0, 0, 0, 0, 0, 1...\n",
      "$ ckd_prog   <fctr> 0, 1, 0, 0, 0, 1, 0, 0, 0, 0, 0, 0, 0, 0, 0, 0, 0, 0, 0...\n",
      "$ MR_ID      <chr> \"02320521\", \"02301080\", \"02286896\", \"02130965\", \"0928399...\n",
      "$ aki        <fctr> 1, 0, 0, 0, 0, 0, 0, 0, 0, 0, 0, 0, 0, 0, 0, 0, 0, 0, 0...\n",
      "$ daki       <fctr> 0, 0, 0, 0, 0, 0, 0, 0, 0, 0, 0, 0, 0, 0, 0, 0, 0, 0, 0...\n",
      "$ dckd       <fctr> 0, 0, 0, 1, 0, 1, 0, 0, 0, 0, 0, 1, 0, 0, 0, 0, 0, 1, 0...\n"
     ]
    }
   ],
   "source": [
    "glimpse(ckd_prog)"
   ]
  },
  {
   "cell_type": "code",
   "execution_count": 67,
   "metadata": {},
   "outputs": [
    {
     "data": {
      "text/plain": [
       "\n",
       "   0    1 \n",
       "4647  567 "
      ]
     },
     "metadata": {},
     "output_type": "display_data"
    }
   ],
   "source": [
    "table(ckd_prog$ckd_prog)"
   ]
  },
  {
   "cell_type": "code",
   "execution_count": 68,
   "metadata": {},
   "outputs": [
    {
     "data": {
      "text/html": [
       "<table>\n",
       "<thead><tr><th scope=col>aki</th><th scope=col>daki</th><th scope=col>prog</th><th scope=col>n</th><th scope=col>f</th></tr></thead>\n",
       "<tbody>\n",
       "\t<tr><td>0        </td><td>0        </td><td>426      </td><td>4364     </td><td> 9.761687</td></tr>\n",
       "\t<tr><td>0        </td><td>1        </td><td>  1      </td><td>  10     </td><td>10.000000</td></tr>\n",
       "\t<tr><td>1        </td><td>0        </td><td> 91      </td><td> 680     </td><td>13.382353</td></tr>\n",
       "\t<tr><td>1        </td><td>1        </td><td> 11      </td><td>  20     </td><td>55.000000</td></tr>\n",
       "\t<tr><td>2        </td><td>0        </td><td> 28      </td><td>  86     </td><td>32.558140</td></tr>\n",
       "\t<tr><td>2        </td><td>1        </td><td>  0      </td><td>   4     </td><td> 0.000000</td></tr>\n",
       "\t<tr><td>3        </td><td>0        </td><td>  8      </td><td>  45     </td><td>17.777778</td></tr>\n",
       "\t<tr><td>3        </td><td>1        </td><td>  2      </td><td>   5     </td><td>40.000000</td></tr>\n",
       "</tbody>\n",
       "</table>\n"
      ],
      "text/latex": [
       "\\begin{tabular}{r|lllll}\n",
       " aki & daki & prog & n & f\\\\\n",
       "\\hline\n",
       "\t 0         & 0         & 426       & 4364      &  9.761687\\\\\n",
       "\t 0         & 1         &   1       &   10      & 10.000000\\\\\n",
       "\t 1         & 0         &  91       &  680      & 13.382353\\\\\n",
       "\t 1         & 1         &  11       &   20      & 55.000000\\\\\n",
       "\t 2         & 0         &  28       &   86      & 32.558140\\\\\n",
       "\t 2         & 1         &   0       &    4      &  0.000000\\\\\n",
       "\t 3         & 0         &   8       &   45      & 17.777778\\\\\n",
       "\t 3         & 1         &   2       &    5      & 40.000000\\\\\n",
       "\\end{tabular}\n"
      ],
      "text/markdown": [
       "\n",
       "aki | daki | prog | n | f | \n",
       "|---|---|---|---|---|---|---|---|\n",
       "| 0         | 0         | 426       | 4364      |  9.761687 | \n",
       "| 0         | 1         |   1       |   10      | 10.000000 | \n",
       "| 1         | 0         |  91       |  680      | 13.382353 | \n",
       "| 1         | 1         |  11       |   20      | 55.000000 | \n",
       "| 2         | 0         |  28       |   86      | 32.558140 | \n",
       "| 2         | 1         |   0       |    4      |  0.000000 | \n",
       "| 3         | 0         |   8       |   45      | 17.777778 | \n",
       "| 3         | 1         |   2       |    5      | 40.000000 | \n",
       "\n",
       "\n"
      ],
      "text/plain": [
       "  aki daki prog n    f        \n",
       "1 0   0    426  4364  9.761687\n",
       "2 0   1      1    10 10.000000\n",
       "3 1   0     91   680 13.382353\n",
       "4 1   1     11    20 55.000000\n",
       "5 2   0     28    86 32.558140\n",
       "6 2   1      0     4  0.000000\n",
       "7 3   0      8    45 17.777778\n",
       "8 3   1      2     5 40.000000"
      ]
     },
     "metadata": {},
     "output_type": "display_data"
    }
   ],
   "source": [
    "#tmp<-\n",
    "ckd_prog %>%\n",
    "  filter(!is.na(ckd_prog)) %>%\n",
    "  group_by(aki,daki) %>%\n",
    "  summarise(\n",
    "      prog = sum(as.numeric(as.character(ckd_prog))),\n",
    "      n=n(),\n",
    "      f=prog/n*100\n",
    "  )"
   ]
  },
  {
   "cell_type": "code",
   "execution_count": 69,
   "metadata": {},
   "outputs": [
    {
     "data": {},
     "metadata": {},
     "output_type": "display_data"
    },
    {
     "data": {
      "image/png": "[encoded data removed]",
      "text/plain": [
       "plot without title"
      ]
     },
     "metadata": {},
     "output_type": "display_data"
    }
   ],
   "source": [
    "tmp<-\n",
    "ckd_prog %>%\n",
    "  filter(!is.na(ckd_prog)) %>%\n",
    "  group_by(daki,aki) %>%\n",
    "  summarise(\n",
    "      prog = sum(as.numeric(as.character(ckd_prog))),\n",
    "      n=n(),\n",
    "      f=prog/n\n",
    "  )\n",
    "\n",
    "ggplot(data=tmp, mapping=aes(x=daki,y=f,fill=aki))+\n",
    "geom_bar(stat=\"identity\",position=\"dodge\")+\n",
    "scale_y_continuous(labels = scales::percent)"
   ]
  },
  {
   "cell_type": "code",
   "execution_count": 70,
   "metadata": {},
   "outputs": [
    {
     "data": {
      "text/html": [
       "<table>\n",
       "<thead><tr><th scope=col>aki</th><th scope=col>daki</th><th scope=col>n</th><th scope=col>d</th><th scope=col>f</th></tr></thead>\n",
       "<tbody>\n",
       "\t<tr><td>0         </td><td>0         </td><td>13101     </td><td>39        </td><td> 0.2976872</td></tr>\n",
       "\t<tr><td>0         </td><td>1         </td><td>   39     </td><td> 4        </td><td>10.2564103</td></tr>\n",
       "\t<tr><td>1         </td><td>0         </td><td> 1311     </td><td> 8        </td><td> 0.6102212</td></tr>\n",
       "\t<tr><td>1         </td><td>1         </td><td>   10     </td><td> 3        </td><td>30.0000000</td></tr>\n",
       "\t<tr><td>2         </td><td>0         </td><td>  307     </td><td>18        </td><td> 5.8631922</td></tr>\n",
       "\t<tr><td>2         </td><td>1         </td><td>   22     </td><td> 5        </td><td>22.7272727</td></tr>\n",
       "\t<tr><td>3         </td><td>0         </td><td>  178     </td><td>21        </td><td>11.7977528</td></tr>\n",
       "\t<tr><td>3         </td><td>1         </td><td>   27     </td><td>10        </td><td>37.0370370</td></tr>\n",
       "</tbody>\n",
       "</table>\n"
      ],
      "text/latex": [
       "\\begin{tabular}{r|lllll}\n",
       " aki & daki & n & d & f\\\\\n",
       "\\hline\n",
       "\t 0          & 0          & 13101      & 39         &  0.2976872\\\\\n",
       "\t 0          & 1          &    39      &  4         & 10.2564103\\\\\n",
       "\t 1          & 0          &  1311      &  8         &  0.6102212\\\\\n",
       "\t 1          & 1          &    10      &  3         & 30.0000000\\\\\n",
       "\t 2          & 0          &   307      & 18         &  5.8631922\\\\\n",
       "\t 2          & 1          &    22      &  5         & 22.7272727\\\\\n",
       "\t 3          & 0          &   178      & 21         & 11.7977528\\\\\n",
       "\t 3          & 1          &    27      & 10         & 37.0370370\\\\\n",
       "\\end{tabular}\n"
      ],
      "text/markdown": [
       "\n",
       "aki | daki | n | d | f | \n",
       "|---|---|---|---|---|---|---|---|\n",
       "| 0          | 0          | 13101      | 39         |  0.2976872 | \n",
       "| 0          | 1          |    39      |  4         | 10.2564103 | \n",
       "| 1          | 0          |  1311      |  8         |  0.6102212 | \n",
       "| 1          | 1          |    10      |  3         | 30.0000000 | \n",
       "| 2          | 0          |   307      | 18         |  5.8631922 | \n",
       "| 2          | 1          |    22      |  5         | 22.7272727 | \n",
       "| 3          | 0          |   178      | 21         | 11.7977528 | \n",
       "| 3          | 1          |    27      | 10         | 37.0370370 | \n",
       "\n",
       "\n"
      ],
      "text/plain": [
       "  aki daki n     d  f         \n",
       "1 0   0    13101 39  0.2976872\n",
       "2 0   1       39  4 10.2564103\n",
       "3 1   0     1311  8  0.6102212\n",
       "4 1   1       10  3 30.0000000\n",
       "5 2   0      307 18  5.8631922\n",
       "6 2   1       22  5 22.7272727\n",
       "7 3   0      178 21 11.7977528\n",
       "8 3   1       27 10 37.0370370"
      ]
     },
     "metadata": {},
     "output_type": "display_data"
    }
   ],
   "source": [
    "aki %>%\n",
    "  group_by(aki,daki) %>%\n",
    "  summarise(\n",
    "      n=n(),\n",
    "      d=sum(as.numeric(as.character(death))),\n",
    "      f=d/n()*100\n",
    "  )"
   ]
  },
  {
   "cell_type": "code",
   "execution_count": 71,
   "metadata": {},
   "outputs": [
    {
     "data": {
      "text/html": [
       "<table>\n",
       "<thead><tr><th scope=col>daki</th><th scope=col>d</th></tr></thead>\n",
       "<tbody>\n",
       "\t<tr><td>0</td><td>8</td></tr>\n",
       "\t<tr><td>1</td><td>3</td></tr>\n",
       "</tbody>\n",
       "</table>\n"
      ],
      "text/latex": [
       "\\begin{tabular}{r|ll}\n",
       " daki & d\\\\\n",
       "\\hline\n",
       "\t 0 & 8\\\\\n",
       "\t 1 & 3\\\\\n",
       "\\end{tabular}\n"
      ],
      "text/markdown": [
       "\n",
       "daki | d | \n",
       "|---|---|\n",
       "| 0 | 8 | \n",
       "| 1 | 3 | \n",
       "\n",
       "\n"
      ],
      "text/plain": [
       "  daki d\n",
       "1 0    8\n",
       "2 1    3"
      ]
     },
     "metadata": {},
     "output_type": "display_data"
    }
   ],
   "source": [
    "#x<-\n",
    "aki %>%\n",
    "  filter(as.character(aki)==1)%>%\n",
    "  group_by(daki) %>%\n",
    "  summarise(\n",
    "      d=sum(as.numeric(as.character(death)))\n",
    "  )"
   ]
  },
  {
   "cell_type": "code",
   "execution_count": 72,
   "metadata": {},
   "outputs": [],
   "source": [
    "#glimpse(aki)"
   ]
  },
  {
   "cell_type": "code",
   "execution_count": 73,
   "metadata": {},
   "outputs": [
    {
     "name": "stdout",
     "output_type": "stream",
     "text": [
      "fread: wanted 1 got 0 loc=12219904\n",
      "fread: wanted 1 got 0 loc=12219904\n",
      "fread: wanted 1 got 0 loc=12219904\n",
      "fread: wanted 1 got 0 loc=12219904\n",
      "fread: wanted 1 got 0 loc=12219904\n",
      "fread: wanted 1 got 0 loc=12219904\n",
      "fread: wanted 1 got 0 loc=12219904\n",
      "fread: wanted 1 got 0 loc=12219904\n"
     ]
    },
    {
     "name": "stderr",
     "output_type": "stream",
     "text": [
      "Warning message in xls_cols(path, sheet, col_names = col_names, col_types = col_types, :\n",
      "\"Expecting numeric in [2548, 63] got `False`\"Warning message in xls_cols(path, sheet, col_names = col_names, col_types = col_types, :\n",
      "\"Expecting numeric in [2549, 63] got `False`\"Warning message in xls_cols(path, sheet, col_names = col_names, col_types = col_types, :\n",
      "\"Expecting numeric in [5433, 63] got `False`\"Warning message in xls_cols(path, sheet, col_names = col_names, col_types = col_types, :\n",
      "\"Expecting numeric in [5434, 63] got `False`\"Warning message in xls_cols(path, sheet, col_names = col_names, col_types = col_types, :\n",
      "\"Expecting numeric in [5954, 63] got `False`\"Warning message in xls_cols(path, sheet, col_names = col_names, col_types = col_types, :\n",
      "\"Expecting numeric in [5955, 63] got `False`\"Warning message in xls_cols(path, sheet, col_names = col_names, col_types = col_types, :\n",
      "\"Expecting numeric in [7436, 63] got `False`\"Warning message in xls_cols(path, sheet, col_names = col_names, col_types = col_types, :\n",
      "\"Expecting numeric in [7437, 63] got `False`\""
     ]
    }
   ],
   "source": [
    "xperim <- read_excel(\"D:/p/ehr/xperim.xls\")"
   ]
  },
  {
   "cell_type": "code",
   "execution_count": 74,
   "metadata": {
    "scrolled": false
   },
   "outputs": [],
   "source": [
    "#glimpse(xperim)"
   ]
  },
  {
   "cell_type": "code",
   "execution_count": 75,
   "metadata": {},
   "outputs": [],
   "source": [
    "#glimpse(df)"
   ]
  },
  {
   "cell_type": "code",
   "execution_count": 76,
   "metadata": {
    "collapsed": true
   },
   "outputs": [],
   "source": [
    "cag <- inner_join(select(df,1,2,3,4),select(xperim,6,8),by=c(\"MR_ID\" = \"Patient_ID\"))"
   ]
  },
  {
   "cell_type": "code",
   "execution_count": 77,
   "metadata": {},
   "outputs": [],
   "source": [
    "#glimpse(cag)"
   ]
  },
  {
   "cell_type": "code",
   "execution_count": 78,
   "metadata": {},
   "outputs": [
    {
     "name": "stderr",
     "output_type": "stream",
     "text": [
      "Warning message in as.POSIXlt.POSIXct(x, tz = tz):\n",
      "\"unknown timezone '%Y%m%d 00:00:00'\"Warning message in as.POSIXlt.POSIXct(x, tz = tz):\n",
      "\"unknown timezone '%Y%m%d 00:00:00'\""
     ]
    }
   ],
   "source": [
    "cag<-\n",
    "cag %>%\n",
    "  filter((as.Date(Procedure_Date,\"%Y%m%d 00:00:00\")>=as.Date(as.character(format(IN_HOS_DATETIME,scientific=FALSE)),\"%Y%m%d%H%M%S\"))&(as.Date(Procedure_Date,\"%Y%m%d 00:00:00\")<=as.Date(as.character(format(OUT_HOS_DATETIME,scientific=FALSE)),\"%Y%m%d%H%M%S\")))"
   ]
  },
  {
   "cell_type": "code",
   "execution_count": 79,
   "metadata": {
    "collapsed": true
   },
   "outputs": [],
   "source": [
    "cag<-distinct(select(cag,IN_PATIENT_FLOW))"
   ]
  },
  {
   "cell_type": "code",
   "execution_count": 80,
   "metadata": {
    "collapsed": true
   },
   "outputs": [],
   "source": [
    "cagaki <- inner_join(aki,cag,by=c(\"INPATIENT_ID\" = \"IN_PATIENT_FLOW\"))"
   ]
  },
  {
   "cell_type": "code",
   "execution_count": 81,
   "metadata": {},
   "outputs": [],
   "source": [
    "#glimpse(cagaki)"
   ]
  },
  {
   "cell_type": "code",
   "execution_count": 82,
   "metadata": {},
   "outputs": [
    {
     "data": {
      "text/html": [
       "<table>\n",
       "<thead><tr><th scope=col>aki</th><th scope=col>daki</th><th scope=col>n</th><th scope=col>d</th><th scope=col>f</th></tr></thead>\n",
       "<tbody>\n",
       "\t<tr><td>0         </td><td>0         </td><td>3026      </td><td>4         </td><td> 0.1321877</td></tr>\n",
       "\t<tr><td>0         </td><td>1         </td><td>   3      </td><td>0         </td><td> 0.0000000</td></tr>\n",
       "\t<tr><td>1         </td><td>0         </td><td> 268      </td><td>0         </td><td> 0.0000000</td></tr>\n",
       "\t<tr><td>2         </td><td>0         </td><td>  53      </td><td>3         </td><td> 5.6603774</td></tr>\n",
       "\t<tr><td>2         </td><td>1         </td><td>   4      </td><td>0         </td><td> 0.0000000</td></tr>\n",
       "\t<tr><td>3         </td><td>0         </td><td>  41      </td><td>2         </td><td> 4.8780488</td></tr>\n",
       "\t<tr><td>3         </td><td>1         </td><td>   6      </td><td>2         </td><td>33.3333333</td></tr>\n",
       "</tbody>\n",
       "</table>\n"
      ],
      "text/latex": [
       "\\begin{tabular}{r|lllll}\n",
       " aki & daki & n & d & f\\\\\n",
       "\\hline\n",
       "\t 0          & 0          & 3026       & 4          &  0.1321877\\\\\n",
       "\t 0          & 1          &    3       & 0          &  0.0000000\\\\\n",
       "\t 1          & 0          &  268       & 0          &  0.0000000\\\\\n",
       "\t 2          & 0          &   53       & 3          &  5.6603774\\\\\n",
       "\t 2          & 1          &    4       & 0          &  0.0000000\\\\\n",
       "\t 3          & 0          &   41       & 2          &  4.8780488\\\\\n",
       "\t 3          & 1          &    6       & 2          & 33.3333333\\\\\n",
       "\\end{tabular}\n"
      ],
      "text/markdown": [
       "\n",
       "aki | daki | n | d | f | \n",
       "|---|---|---|---|---|---|---|\n",
       "| 0          | 0          | 3026       | 4          |  0.1321877 | \n",
       "| 0          | 1          |    3       | 0          |  0.0000000 | \n",
       "| 1          | 0          |  268       | 0          |  0.0000000 | \n",
       "| 2          | 0          |   53       | 3          |  5.6603774 | \n",
       "| 2          | 1          |    4       | 0          |  0.0000000 | \n",
       "| 3          | 0          |   41       | 2          |  4.8780488 | \n",
       "| 3          | 1          |    6       | 2          | 33.3333333 | \n",
       "\n",
       "\n"
      ],
      "text/plain": [
       "  aki daki n    d f         \n",
       "1 0   0    3026 4  0.1321877\n",
       "2 0   1       3 0  0.0000000\n",
       "3 1   0     268 0  0.0000000\n",
       "4 2   0      53 3  5.6603774\n",
       "5 2   1       4 0  0.0000000\n",
       "6 3   0      41 2  4.8780488\n",
       "7 3   1       6 2 33.3333333"
      ]
     },
     "metadata": {},
     "output_type": "display_data"
    }
   ],
   "source": [
    "cagaki %>%\n",
    "  group_by(aki, daki) %>%\n",
    "  summarise(\n",
    "      n=n(),\n",
    "      d=sum(ifelse(death==1,1,0)),\n",
    "      f=d/n*100\n",
    "  )"
   ]
  },
  {
   "cell_type": "code",
   "execution_count": 83,
   "metadata": {},
   "outputs": [
    {
     "data": {
      "text/plain": [
       "\n",
       "   0    1 \n",
       "3388   13 "
      ]
     },
     "metadata": {},
     "output_type": "display_data"
    }
   ],
   "source": [
    "table(cagaki$daki)"
   ]
  },
  {
   "cell_type": "code",
   "execution_count": null,
   "metadata": {
    "collapsed": true
   },
   "outputs": [],
   "source": []
  }
 ],
 "metadata": {
  "kernelspec": {
   "display_name": "R",
   "language": "R",
   "name": "ir"
  },
  "language_info": {
   "codemirror_mode": "r",
   "file_extension": ".r",
   "mimetype": "text/x-r-source",
   "name": "R",
   "pygments_lexer": "r",
   "version": "3.2.0"
  }
 },
 "nbformat": 4,
 "nbformat_minor": 2
}
